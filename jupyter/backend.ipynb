{
 "cells": [
  {
   "cell_type": "code",
   "execution_count": 1,
   "id": "3e667766",
   "metadata": {},
   "outputs": [],
   "source": [
    "import cv2"
   ]
  },
  {
   "cell_type": "code",
   "execution_count": 2,
   "id": "1a5296dc",
   "metadata": {},
   "outputs": [
    {
     "name": "stdout",
     "output_type": "stream",
     "text": [
      "Yolo ONNX Model has been loaded\n"
     ]
    }
   ],
   "source": [
    "yolo = cv2.dnn.readNetFromONNX('best.onnx')\n",
    "print(\"Yolo ONNX Model has been loaded\")\n",
    "# we have to specify which gpu or cpu we are using\n",
    "#yolo.setPreferableBackend(cv2.dnn.DNN_BACKEND_OPENCV)\n",
    "#yolo.setPreferableTarget(cv2.dnn.DNN_TARGET_CPU)\n"
   ]
  },
  {
   "cell_type": "code",
   "execution_count": 4,
   "id": "7c8a3525",
   "metadata": {},
   "outputs": [
    {
     "name": "stdout",
     "output_type": "stream",
     "text": [
      "< cv2.dnn.Net 000001EAE7A0FFD0>\n"
     ]
    }
   ],
   "source": [
    "print(yolo)"
   ]
  },
  {
   "cell_type": "code",
   "execution_count": 5,
   "id": "15a4a780",
   "metadata": {},
   "outputs": [],
   "source": [
    "yolo.setPreferableBackend(cv2.dnn.DNN_BACKEND_CUDA)\n",
    "yolo.setPreferableTarget(cv2.dnn.DNN_TARGET_CUDA_FP16)"
   ]
  },
  {
   "cell_type": "code",
   "execution_count": 6,
   "id": "16433690",
   "metadata": {},
   "outputs": [
    {
     "data": {
      "text/plain": [
       "< cv2.dnn.Net 000001EAE7A0FFD0>"
      ]
     },
     "execution_count": 6,
     "metadata": {},
     "output_type": "execute_result"
    }
   ],
   "source": [
    "yolo"
   ]
  },
  {
   "cell_type": "code",
   "execution_count": 7,
   "id": "32845e6e",
   "metadata": {},
   "outputs": [
    {
     "ename": "AttributeError",
     "evalue": "'cv2.dnn.Net' object has no attribute 'showavailablebackends'",
     "output_type": "error",
     "traceback": [
      "\u001b[1;31m---------------------------------------------------------------------------\u001b[0m",
      "\u001b[1;31mAttributeError\u001b[0m                            Traceback (most recent call last)",
      "\u001b[1;32m~\\AppData\\Local\\Temp\\ipykernel_22872\\1304261719.py\u001b[0m in \u001b[0;36m<module>\u001b[1;34m\u001b[0m\n\u001b[1;32m----> 1\u001b[1;33m \u001b[0myolo\u001b[0m\u001b[1;33m.\u001b[0m\u001b[0mshowavailablebackends\u001b[0m\u001b[1;33m(\u001b[0m\u001b[1;33m)\u001b[0m\u001b[1;33m\u001b[0m\u001b[1;33m\u001b[0m\u001b[0m\n\u001b[0m",
      "\u001b[1;31mAttributeError\u001b[0m: 'cv2.dnn.Net' object has no attribute 'showavailablebackends'"
     ]
    }
   ],
   "source": [
    "yolo.showavailablebackends()"
   ]
  },
  {
   "cell_type": "code",
   "execution_count": null,
   "id": "bc72b687",
   "metadata": {},
   "outputs": [],
   "source": [
    "\n",
    "CV_EXPORTS std::vector< std::pair<Backend, Target> > getAvailableBackends();\n",
    "\n",
    "Return type is not supported by bindings.\n",
    "Use cv2.dnn.getAvailableTargets(cv.dnn.DNN_BACKEND_DEFAULT) instead. It is possible to query all possible values with provided API\n",
    "\n"
   ]
  },
  {
   "cell_type": "code",
   "execution_count": null,
   "id": "3a29bd55",
   "metadata": {},
   "outputs": [],
   "source": []
  }
 ],
 "metadata": {
  "kernelspec": {
   "display_name": "Python 3 (ipykernel)",
   "language": "python",
   "name": "python3"
  },
  "language_info": {
   "codemirror_mode": {
    "name": "ipython",
    "version": 3
   },
   "file_extension": ".py",
   "mimetype": "text/x-python",
   "name": "python",
   "nbconvert_exporter": "python",
   "pygments_lexer": "ipython3",
   "version": "3.7.16"
  }
 },
 "nbformat": 4,
 "nbformat_minor": 5
}
