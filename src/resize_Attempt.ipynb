{
 "cells": [
  {
   "cell_type": "code",
   "execution_count": 1,
   "id": "77901457",
   "metadata": {},
   "outputs": [],
   "source": [
    "import carla \n",
    "import math \n",
    "import random \n",
    "import time \n",
    "import numpy as np\n",
    "import cv2"
   ]
  },
  {
   "cell_type": "code",
   "execution_count": 2,
   "id": "2154720a",
   "metadata": {},
   "outputs": [],
   "source": [
    "# Connect the client and set up bp library and spawn points\n",
    "client = carla.Client('localhost', 2000) \n",
    "client.set_timeout(20.0)\n",
    "world = client.get_world()\n",
    "bp_lib = world.get_blueprint_library() \n",
    "spawn_points = world.get_map().get_spawn_points() "
   ]
  },
  {
   "cell_type": "code",
   "execution_count": 3,
   "id": "2097ee0c",
   "metadata": {},
   "outputs": [],
   "source": [
    "# Spawn ego vehicle\n",
    "vehicle_bp = bp_lib.find('vehicle.audi.a2') \n",
    "vehicle = world.try_spawn_actor(vehicle_bp, random.choice(spawn_points))\n",
    "\n",
    "# Move spectator behind vehicle to view\n",
    "spectator = world.get_spectator() \n",
    "transform = carla.Transform(vehicle.get_transform().transform(carla.Location(x=-4,z=2.5)),vehicle.get_transform().rotation) \n",
    "spectator.set_transform(transform)\n",
    "\n",
    "vehicle.set_autopilot(True) "
   ]
  },
  {
   "cell_type": "code",
   "execution_count": 4,
   "id": "ea72caee",
   "metadata": {},
   "outputs": [
    {
     "name": "stdout",
     "output_type": "stream",
     "text": [
      "Yolo ONNX Model has been loaded\n"
     ]
    }
   ],
   "source": [
    "net = cv2.dnn.readNetFromONNX('X:\\Installs\\carla\\PythonAPI\\workingDirectory\\weights/perfect.onnx')\n",
    "print(\"Yolo ONNX Model has been loaded\")\n",
    "# we have to specify which gpu or cpu we are using\n",
    "net.setPreferableBackend(cv2.dnn.DNN_BACKEND_OPENCV)\n",
    "net.setPreferableTarget(cv2.dnn.DNN_TARGET_CPU)\n",
    "#gpu\n",
    "#yolo.setPreferableBackend(cv2.dnn.DNN_BACKEND_CUDA)\n",
    "#yolo.setPreferableTarget(cv2.dnn.DNN_TARGET_CUDA_FP16)"
   ]
  },
  {
   "cell_type": "code",
   "execution_count": 5,
   "id": "ec039065",
   "metadata": {},
   "outputs": [],
   "source": [
    "#Iterate this cell to find desired camera location\n",
    "camera_bp = bp_lib.find('sensor.camera.rgb') \n",
    "camera_init_trans = carla.Transform(carla.Location(z=2)) #Change this to move camera\n",
    "camera = world.spawn_actor(camera_bp, camera_init_trans, attach_to=vehicle)\n",
    "\n",
    "time.sleep(0.2)\n",
    "spectator.set_transform(camera.get_transform())\n",
    "#camera.destroy()"
   ]
  },
  {
   "cell_type": "code",
   "execution_count": 6,
   "id": "11936b73",
   "metadata": {},
   "outputs": [
    {
     "ename": "SyntaxError",
     "evalue": "unexpected EOF while parsing (1800696291.py, line 3)",
     "output_type": "error",
     "traceback": [
      "\u001b[1;36m  File \u001b[1;32m\"C:\\Users\\Shehroz\\AppData\\Local\\Temp\\ipykernel_8416\\1800696291.py\"\u001b[1;36m, line \u001b[1;32m3\u001b[0m\n\u001b[1;33m    camera = world.spawn_actor(camera_bp, camera_init_trans, attach_to=vehicle\u001b[0m\n\u001b[1;37m                                                                              ^\u001b[0m\n\u001b[1;31mSyntaxError\u001b[0m\u001b[1;31m:\u001b[0m unexpected EOF while parsing\n"
     ]
    }
   ],
   "source": [
    "# Spawn camera\n",
    "camera_init_trans = carla.Transform(carla.Location(z=2))\n",
    "camera = world.spawn_actor(camera_bp, camera_init_trans, attach_to=vehicle"
   ]
  },
  {
   "cell_type": "code",
   "execution_count": 6,
   "id": "3155710b",
   "metadata": {},
   "outputs": [],
   "source": [
    "# Callback stores sensor data in a dictionary for use outside callback                         \n",
    "def camera_callback(image, data_dict):\n",
    "    data_dict['image'] = np.reshape(np.copy(image.raw_data), (image.height, image.width, 4))\n"
   ]
  },
  {
   "cell_type": "code",
   "execution_count": 7,
   "id": "89e3c14e",
   "metadata": {},
   "outputs": [],
   "source": [
    "# Get gamera dimensions and initialise dictionary                       \n",
    "image_w = camera_bp.get_attribute(\"image_size_x\").as_int()\n",
    "image_h = camera_bp.get_attribute(\"image_size_y\").as_int()\n",
    "camera_data = {'image': np.zeros((image_h, image_w, 4))}"
   ]
  },
  {
   "cell_type": "code",
   "execution_count": 8,
   "id": "a95433cd",
   "metadata": {},
   "outputs": [],
   "source": [
    "# Start camera recording\n",
    "camera.listen(lambda image: camera_callback(image, camera_data))"
   ]
  },
  {
   "cell_type": "code",
   "execution_count": 20,
   "id": "ab3aa44b",
   "metadata": {},
   "outputs": [
    {
     "data": {
      "text/plain": [
       "{'image': array([[[105, 112, 120, 255],\n",
       "         [105, 113, 121, 255],\n",
       "         [106, 113, 122, 255],\n",
       "         ...,\n",
       "         [ 90,  95, 104, 255],\n",
       "         [ 88,  93, 102, 255],\n",
       "         [ 88,  93, 101, 255]],\n",
       " \n",
       "        [[  0,   0,   0, 255],\n",
       "         [  0,   0,   0, 255],\n",
       "         [  0,   0,   0, 255],\n",
       "         ...,\n",
       "         [125, 128, 135, 255],\n",
       "         [124, 128, 134, 255],\n",
       "         [124, 128, 134, 255]],\n",
       " \n",
       "        [[122, 127, 133, 255],\n",
       "         [119, 122, 129, 255],\n",
       "         [115, 119, 126, 255],\n",
       "         ...,\n",
       "         [216, 223, 229, 255],\n",
       "         [217, 223, 229, 255],\n",
       "         [215, 222, 229, 255]],\n",
       " \n",
       "        ...,\n",
       " \n",
       "        [[ 88,  96, 105, 255],\n",
       "         [ 88,  96, 105, 255],\n",
       "         [ 86,  95, 104, 255],\n",
       "         ...,\n",
       "         [  0,   0,   0, 255],\n",
       "         [  0,   0,   0, 255],\n",
       "         [  0,   0,   0, 255]],\n",
       " \n",
       "        [[ 88,  96, 105, 255],\n",
       "         [ 90,  98, 106, 255],\n",
       "         [ 91,  99, 108, 255],\n",
       "         ...,\n",
       "         [ 90,  98, 108, 255],\n",
       "         [ 90,  98, 108, 255],\n",
       "         [ 90,  98, 108, 255]],\n",
       " \n",
       "        [[  0,   0,   0, 255],\n",
       "         [  0,   0,   0, 255],\n",
       "         [  0,   0,   0, 255],\n",
       "         ...,\n",
       "         [ 99, 108, 117, 255],\n",
       "         [ 98, 106, 115, 255],\n",
       "         [ 98, 108, 115, 255]]], dtype=uint8)}"
      ]
     },
     "execution_count": 20,
     "metadata": {},
     "output_type": "execute_result"
    }
   ],
   "source": [
    "camera_data"
   ]
  },
  {
   "cell_type": "code",
   "execution_count": null,
   "id": "cb48acde",
   "metadata": {},
   "outputs": [],
   "source": [
    "image = camera.listen().data\n",
    "\n",
    "# Convert the image data to a numpy array\n",
    "np_image = np.frombuffer(image, dtype=np.uint8)\n",
    "\n",
    "# Reshape the numpy array to the image dimensions (height, width, channels)\n",
    "reshaped_image = np_image.reshape((image_height, image_width, num_channels))\n",
    "\n",
    "# Process the image\n",
    "process_image(reshaped_image)"
   ]
  },
  {
   "cell_type": "code",
   "execution_count": 21,
   "id": "d37472ad",
   "metadata": {},
   "outputs": [
    {
     "ename": "error",
     "evalue": "OpenCV(4.7.0) D:\\a\\opencv-python\\opencv-python\\opencv\\modules\\dnn\\src\\layers\\convolution_layer.cpp:420: error: (-2:Unspecified error) Number of input channels should be multiple of 3 but got 4 in function 'cv::dnn::ConvolutionLayerImpl::getMemoryShapes'\n",
     "output_type": "error",
     "traceback": [
      "\u001b[1;31m---------------------------------------------------------------------------\u001b[0m",
      "\u001b[1;31merror\u001b[0m                                     Traceback (most recent call last)",
      "\u001b[1;32m~\\AppData\\Local\\Temp\\ipykernel_19260\\3833341578.py\u001b[0m in \u001b[0;36m<module>\u001b[1;34m\u001b[0m\n\u001b[0;32m     13\u001b[0m     \u001b[0mblob\u001b[0m \u001b[1;33m=\u001b[0m \u001b[0mcv2\u001b[0m\u001b[1;33m.\u001b[0m\u001b[0mdnn\u001b[0m\u001b[1;33m.\u001b[0m\u001b[0mblobFromImage\u001b[0m\u001b[1;33m(\u001b[0m\u001b[0mframe\u001b[0m\u001b[1;33m,\u001b[0m \u001b[1;36m1\u001b[0m\u001b[1;33m/\u001b[0m\u001b[1;36m255\u001b[0m\u001b[1;33m,\u001b[0m \u001b[1;33m(\u001b[0m\u001b[1;36m640\u001b[0m\u001b[1;33m,\u001b[0m \u001b[1;36m640\u001b[0m\u001b[1;33m)\u001b[0m\u001b[1;33m,\u001b[0m \u001b[1;33m(\u001b[0m\u001b[1;36m0\u001b[0m\u001b[1;33m,\u001b[0m \u001b[1;36m0\u001b[0m\u001b[1;33m,\u001b[0m \u001b[1;36m0\u001b[0m\u001b[1;33m)\u001b[0m\u001b[1;33m,\u001b[0m \u001b[1;32mTrue\u001b[0m\u001b[1;33m,\u001b[0m \u001b[0mcrop\u001b[0m \u001b[1;33m=\u001b[0m \u001b[1;32mFalse\u001b[0m\u001b[1;33m)\u001b[0m\u001b[1;33m\u001b[0m\u001b[1;33m\u001b[0m\u001b[0m\n\u001b[0;32m     14\u001b[0m     \u001b[0mnet\u001b[0m\u001b[1;33m.\u001b[0m\u001b[0msetInput\u001b[0m\u001b[1;33m(\u001b[0m\u001b[0mblob\u001b[0m\u001b[1;33m)\u001b[0m\u001b[1;33m\u001b[0m\u001b[1;33m\u001b[0m\u001b[0m\n\u001b[1;32m---> 15\u001b[1;33m     \u001b[0mouts\u001b[0m \u001b[1;33m=\u001b[0m \u001b[0mnet\u001b[0m\u001b[1;33m.\u001b[0m\u001b[0mforward\u001b[0m\u001b[1;33m(\u001b[0m\u001b[1;33m)\u001b[0m\u001b[1;33m\u001b[0m\u001b[1;33m\u001b[0m\u001b[0m\n\u001b[0m\u001b[0;32m     16\u001b[0m     \u001b[1;31m# Imshow renders sensor data to display\u001b[0m\u001b[1;33m\u001b[0m\u001b[1;33m\u001b[0m\u001b[1;33m\u001b[0m\u001b[0m\n\u001b[0;32m     17\u001b[0m     \u001b[0mcv2\u001b[0m\u001b[1;33m.\u001b[0m\u001b[0mimshow\u001b[0m\u001b[1;33m(\u001b[0m\u001b[1;34m'RGB Camera'\u001b[0m\u001b[1;33m,\u001b[0m \u001b[0mcamera_data\u001b[0m\u001b[1;33m[\u001b[0m\u001b[1;34m'image'\u001b[0m\u001b[1;33m]\u001b[0m\u001b[1;33m)\u001b[0m\u001b[1;33m\u001b[0m\u001b[1;33m\u001b[0m\u001b[0m\n",
      "\u001b[1;31merror\u001b[0m: OpenCV(4.7.0) D:\\a\\opencv-python\\opencv-python\\opencv\\modules\\dnn\\src\\layers\\convolution_layer.cpp:420: error: (-2:Unspecified error) Number of input channels should be multiple of 3 but got 4 in function 'cv::dnn::ConvolutionLayerImpl::getMemoryShapes'\n"
     ]
    }
   ],
   "source": [
    "# OpenCV named window for rendering\n",
    "cv2.namedWindow('RGB Camera', cv2.WINDOW_AUTOSIZE)\n",
    "cv2.imshow('RGB Camera', camera_data['image'])\n",
    "cv2.waitKey(1)\n",
    "image_height = 640\n",
    "image_width = 480\n",
    "num_channels = 4\n",
    "# Game loop\n",
    "while True:\n",
    "    frame = camera_data['image']\n",
    "    #np_image = np.frombuffer(frame, dtype=np.uint8)\n",
    "    #reshaped_image = np_image.reshape((image_height, image_width, num_channels))\n",
    "    blob = cv2.dnn.blobFromImage(frame, 1/255, (640, 640), (0, 0, 0), True, crop = False)\n",
    "    net.setInput(blob)\n",
    "    outs = net.forward()\n",
    "    # Imshow renders sensor data to display\n",
    "    cv2.imshow('RGB Camera', camera_data['image'])\n",
    "    \n",
    "    # Quit if user presses 'q'\n",
    "    if cv2.waitKey(1) == ord('q'):\n",
    "        break\n",
    "\n",
    "# Close OpenCV window when finished\n",
    "cv2.destroyAllWindows()\n",
    "cv2.stop()"
   ]
  },
  {
   "cell_type": "code",
   "execution_count": null,
   "id": "2461deb6",
   "metadata": {},
   "outputs": [],
   "source": [
    "def processImage(image):\n",
    "    i = np.array(image.raw_data)\n",
    "    i2 = i.reshape((IM_HEIGHT,IM_WIDTH,4))\n",
    "    i3 = i2[:,:,:3]\n",
    "\n",
    "    #detected_image = detector(i3)\n",
    "    #cv2.imshow('OpenCV Interface of detections',detected_image)\n",
    "    cv2.imshow('OpenCV Interface of img',i3)\n",
    "    cv2.waitKey(1)\n",
    "    return i3/255.0"
   ]
  },
  {
   "cell_type": "code",
   "execution_count": null,
   "id": "c523d176",
   "metadata": {
    "scrolled": true
   },
   "outputs": [],
   "source": [
    "!pip show opencv-python"
   ]
  },
  {
   "cell_type": "code",
   "execution_count": null,
   "id": "42ba082e",
   "metadata": {},
   "outputs": [],
   "source": [
    "camera.destroy()\n",
    "vehicle.destroy()"
   ]
  },
  {
   "cell_type": "code",
   "execution_count": null,
   "id": "88de41b2",
   "metadata": {},
   "outputs": [],
   "source": []
  }
 ],
 "metadata": {
  "kernelspec": {
   "display_name": "Python 3 (ipykernel)",
   "language": "python",
   "name": "python3"
  },
  "language_info": {
   "codemirror_mode": {
    "name": "ipython",
    "version": 3
   },
   "file_extension": ".py",
   "mimetype": "text/x-python",
   "name": "python",
   "nbconvert_exporter": "python",
   "pygments_lexer": "ipython3",
   "version": "3.7.16"
  }
 },
 "nbformat": 4,
 "nbformat_minor": 5
}
