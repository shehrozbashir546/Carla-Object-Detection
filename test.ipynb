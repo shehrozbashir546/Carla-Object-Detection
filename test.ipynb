{
 "cells": [
  {
   "cell_type": "code",
   "execution_count": 1,
   "id": "f2b29cab",
   "metadata": {},
   "outputs": [],
   "source": [
    "# code from https://www.youtube.com/watch?v=m1vctOrYrTY&t=1566s\n",
    "\n",
    "import sys\n",
    "import math\n",
    "import glob\n",
    "import os\n",
    "import numpy as np\n",
    "import cv2\n",
    "import queue\n",
    "import random \n",
    "import time\n",
    "\n",
    "try:\n",
    "    sys.path.append(glob.glob('../carla/dist/carla-*%d.%d-%s.egg' % (\n",
    "        sys.version_info.major,\n",
    "        sys.version_info.minor,\n",
    "        'win-amd64' if os.name == 'nt' else 'linux-x86_64'))[0])\n",
    "except IndexError:\n",
    "    pass\n",
    "\n",
    "import carla\n",
    "\n",
    "def processImage(image):\n",
    "    image = np.array(image.raw_data)\n",
    "    img = image.reshape((600,800,4))\n",
    "    img = img[:,:,:3]\n",
    "\n",
    "    cv2.imshow('img',img)\n",
    "    cv2.waitKey(0)\n",
    "\n",
    "def get_speed(vehicle):\n",
    "    vel = vehicle.get_velocity()\n",
    "    return 3.6*math.sqrt(vel.x**2 + vel.y**2 + vel.z**2)\n"
   ]
  },
  {
   "cell_type": "code",
   "execution_count": 2,
   "id": "2bbd83e0",
   "metadata": {},
   "outputs": [
    {
     "name": "stdout",
     "output_type": "stream",
     "text": [
      "created vehicle.audi.etron\n"
     ]
    }
   ],
   "source": [
    "actor_list = []\n",
    "\n",
    "client = carla.Client('localhost',2000)\n",
    "client.set_timeout(5.0)\n",
    "world = client.get_world()\n",
    "#map = world.get_map()\n",
    "\n",
    "blueprint_library = world.get_blueprint_library()\n",
    "bp = random.choice(blueprint_library.filter('vehicle'))\n",
    "if bp.has_attribute('color'):\n",
    "    color = random.choice(bp.get_attribute('color').recommended_values)\n",
    "    bp.set_attribute('color', color)\n",
    "transform = random.choice(world.get_map().get_spawn_points())\n",
    "vehicle = world.spawn_actor(bp, transform)\n",
    "actor_list.append(vehicle)\n",
    "print('created %s' % vehicle.type_id)\n",
    "\n",
    "# Let's put the vehicle to drive around.\n",
    "vehicle.set_autopilot(True)"
   ]
  },
  {
   "cell_type": "code",
   "execution_count": 3,
   "id": "f461afd3",
   "metadata": {},
   "outputs": [
    {
     "name": "stdout",
     "output_type": "stream",
     "text": [
      "created sensor.camera.rgb\n"
     ]
    }
   ],
   "source": [
    "camera_bp = blueprint_library.find('sensor.camera.rgb')\n",
    "camera_bp.set_attribute('image_size_x','800')\n",
    "camera_bp.set_attribute('image_size_y','600')\n",
    "camera_bp.set_attribute('fov','90')\n",
    "camera_transform = carla.Transform(carla.Location(x=1.5, z=2.4))\n",
    "camera = world.spawn_actor(camera_bp, camera_transform, attach_to=vehicle)\n",
    "actor_list.append(camera)\n",
    "print('created %s' % camera.type_id)\n"
   ]
  },
  {
   "cell_type": "code",
   "execution_count": 4,
   "id": "eb7b9f0f",
   "metadata": {},
   "outputs": [],
   "source": [
    "camera.listen(lambda image: processImage(image))\n"
   ]
  },
  {
   "cell_type": "code",
   "execution_count": null,
   "id": "36ba7f1d",
   "metadata": {},
   "outputs": [],
   "source": [
    "print('destroying actors')\n",
    "camera.destroy()\n",
    "client.apply_batch([carla.command.DestroyActor(x) for x in actor_list])\n",
    "print('done.')"
   ]
  },
  {
   "cell_type": "code",
   "execution_count": null,
   "id": "73f162de",
   "metadata": {},
   "outputs": [],
   "source": []
  }
 ],
 "metadata": {
  "kernelspec": {
   "display_name": "Python 3 (ipykernel)",
   "language": "python",
   "name": "python3"
  },
  "language_info": {
   "codemirror_mode": {
    "name": "ipython",
    "version": 3
   },
   "file_extension": ".py",
   "mimetype": "text/x-python",
   "name": "python",
   "nbconvert_exporter": "python",
   "pygments_lexer": "ipython3",
   "version": "3.7.16"
  }
 },
 "nbformat": 4,
 "nbformat_minor": 5
}
