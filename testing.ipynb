{
 "cells": [
  {
   "cell_type": "code",
   "execution_count": 2,
   "id": "118b0908",
   "metadata": {},
   "outputs": [],
   "source": [
    "#Test all the imports"
   ]
  },
  {
   "cell_type": "code",
   "execution_count": 1,
   "id": "d4e81128",
   "metadata": {},
   "outputs": [],
   "source": [
    "import glob\n",
    "import os\n",
    "import sys\n",
    "\n",
    "try:\n",
    "    sys.path.append(glob.glob('../carla/dist/carla-*%d.%d-%s.egg' % (\n",
    "        sys.version_info.major,\n",
    "        sys.version_info.minor,\n",
    "        'win-amd64' if os.name == 'nt' else 'linux-x86_64'))[0])\n",
    "except IndexError:\n",
    "    pass\n",
    "\n",
    "import carla\n",
    "\n",
    "import random\n",
    "import time"
   ]
  },
  {
   "cell_type": "code",
   "execution_count": 2,
   "id": "bd1405d0",
   "metadata": {},
   "outputs": [],
   "source": [
    "import torch"
   ]
  },
  {
   "cell_type": "code",
   "execution_count": 3,
   "id": "a77953d6",
   "metadata": {},
   "outputs": [
    {
     "data": {
      "text/plain": [
       "True"
      ]
     },
     "execution_count": 3,
     "metadata": {},
     "output_type": "execute_result"
    }
   ],
   "source": [
    "torch.cuda.is_available()"
   ]
  },
  {
   "cell_type": "code",
   "execution_count": 5,
   "id": "aedcc15b",
   "metadata": {},
   "outputs": [],
   "source": [
    "client = carla.Client('localhost', 2000)\n",
    "client.set_timeout(5.0)\n",
    "\n",
    "# Once we have a client we can retrieve the world that is currentlyrunning.\n",
    "world = client.get_world()\n",
    "\n",
    "# The world contains the list blueprints that we can use for adding new actors into the simulation.\n",
    "blueprint_library = world.get_blueprint_library()\n",
    "\n",
    "# Now let's filter all the blueprints of type 'vehicle' and choose one at random.\n",
    "bp = random.choice(blueprint_library.filter('vehicle'))\n",
    "# A blueprint contains the list of attributes that define a vehicle'sinstance, \n",
    "#we can read them and modify some of them. For instance, let's randomize its color.\n"
   ]
  },
  {
   "cell_type": "code",
   "execution_count": 8,
   "id": "7b751af5",
   "metadata": {},
   "outputs": [
    {
     "name": "stdout",
     "output_type": "stream",
     "text": [
      "created vehicle.mercedes.coupe_2020\n"
     ]
    }
   ],
   "source": [
    "actor_list = []\n",
    "if bp.has_attribute('color'):\n",
    "    color = random.choice(bp.get_attribute('color').recommended_values)\n",
    "    bp.set_attribute('color', color)\n",
    "\n",
    "        # Now we need to give an initial transform to the vehicle. We choose a\n",
    "        # random transform from the list of recommended spawn points of the map.\n",
    "    transform = random.choice(world.get_map().get_spawn_points())\n",
    "\n",
    "        # So let's tell the world to spawn the vehicle.\n",
    "    vehicle = world.spawn_actor(bp, transform)\n",
    "\n",
    "        # It is important to note that the actors we create won't be destroyed\n",
    "        # unless we call their \"destroy\" function. If we fail to call \"destroy\"\n",
    "        # they will stay in the simulation even after we quit the Python script.\n",
    "        # For that reason, we are storing all the actors we create so we can\n",
    "        # destroy them afterwards.\n",
    "    actor_list.append(vehicle)\n",
    "    print('created %s' % vehicle.type_id)\n",
    "\n",
    "        # Let's put the vehicle to drive around.\n",
    "    vehicle.set_autopilot(True)"
   ]
  },
  {
   "cell_type": "code",
   "execution_count": 9,
   "id": "8aa122e9",
   "metadata": {},
   "outputs": [
    {
     "name": "stdout",
     "output_type": "stream",
     "text": [
      "created sensor.camera.depth\n"
     ]
    }
   ],
   "source": [
    "# Let's add now a \"depth\" camera attached to the vehicle. Note that the\n",
    "        # transform we give here is now relative to the vehicle.\n",
    "camera_bp = blueprint_library.find('sensor.camera.depth')\n",
    "camera_transform = carla.Transform(carla.Location(x=1.5, z=2.4))\n",
    "camera = world.spawn_actor(camera_bp, camera_transform, attach_to=vehicle)\n",
    "actor_list.append(camera)\n",
    "print('created %s' % camera.type_id)\n",
    "\n",
    "        # Now we register the function that will be called each time the sensor\n",
    "        # receives an image. In this example we are saving the image to disk\n",
    "        # converting the pixels to gray-scale.\n",
    "cc = carla.ColorConverter.LogarithmicDepth\n",
    "camera.listen(lambda image: image.save_to_disk('_out/%06d.png' % image.frame, cc))"
   ]
  },
  {
   "cell_type": "code",
   "execution_count": 10,
   "id": "625bbb8c",
   "metadata": {},
   "outputs": [
    {
     "name": "stdout",
     "output_type": "stream",
     "text": [
      "moved vehicle to Location(x=-67.307968, y=50.859608, z=-0.001371)\n"
     ]
    }
   ],
   "source": [
    "# Oh wait, I don't like the location we gave to the vehicle, I'm going\n",
    "        # to move it a bit forward.\n",
    "location = vehicle.get_location()\n",
    "location.x += 40\n",
    "vehicle.set_location(location)\n",
    "print('moved vehicle to %s' % location)"
   ]
  },
  {
   "cell_type": "code",
   "execution_count": null,
   "id": "33c36312",
   "metadata": {},
   "outputs": [],
   "source": [
    "transform.location += carla.Location(x=40, y=-3.2)\n",
    "transform.rotation.yaw = -180.0\n",
    "for _ in range(0, 10):\n",
    "    transform.location.x += 8.0\n",
    "    bp = random.choice(blueprint_library.filter('vehicle'))\n",
    "\n",
    "            # This time we are using try_spawn_actor. If the spot is already\n",
    "            # occupied by another object, the function will return None.\n",
    "    npc = world.try_spawn_actor(bp, transform)\n",
    "    if npc is not None:\n",
    "        actor_list.append(npc)\n",
    "        npc.set_autopilot(True)\n",
    "        print('created %s' % npc.type_id)\n"
   ]
  },
  {
   "cell_type": "code",
   "execution_count": null,
   "id": "6f9fd9ff",
   "metadata": {},
   "outputs": [],
   "source": [
    "print('destroying actors')\n",
    "camera.destroy()\n",
    "client.apply_batch([carla.command.DestroyActor(x) for x in actor_list])\n",
    "print('done.')"
   ]
  },
  {
   "cell_type": "code",
   "execution_count": 1,
   "id": "9d764613",
   "metadata": {},
   "outputs": [
    {
     "name": "stdout",
     "output_type": "stream",
     "text": [
      "Name: carla\n",
      "Version: 0.9.14\n",
      "Summary: Python API for communicating with the CARLA server.\n",
      "Home-page: https://github.com/carla-simulator/carla\n",
      "Author: The CARLA team\n",
      "Author-email: carla.simulator@gmail.com\n",
      "License: MIT License\n",
      "Location: x:\\installs\\anaconda3\\envs\\carla\\lib\\site-packages\n",
      "Requires: \n",
      "Required-by: \n"
     ]
    }
   ],
   "source": [
    "\n",
    "        # But the city now is probably quite empty, let's add a few more\n",
    "        # vehicles.\n",
    "        transform.location += carla.Location(x=40, y=-3.2)\n",
    "        transform.rotation.yaw = -180.0\n",
    "        for _ in range(0, 10):\n",
    "            transform.location.x += 8.0\n",
    "\n",
    "            bp = random.choice(blueprint_library.filter('vehicle'))\n",
    "\n",
    "            # This time we are using try_spawn_actor. If the spot is already\n",
    "            # occupied by another object, the function will return None.\n",
    "            npc = world.try_spawn_actor(bp, transform)\n",
    "            if npc is not None:\n",
    "                actor_list.append(npc)\n",
    "                npc.set_autopilot(True)\n",
    "                print('created %s' % npc.type_id)\n",
    "\n",
    "        time.sleep(5)\n",
    "\n",
    "    finally:\n",
    "\n",
    "        print('destroying actors')\n",
    "        camera.destroy()\n",
    "        client.apply_batch([carla.command.DestroyActor(x) for x in actor_list])\n",
    "        print('done.')\n",
    "\n",
    "\n",
    "if __name__ == '__main__':\n",
    "\n",
    "    main()\n"
   ]
  }
 ],
 "metadata": {
  "kernelspec": {
   "display_name": "Python 3 (ipykernel)",
   "language": "python",
   "name": "python3"
  },
  "language_info": {
   "codemirror_mode": {
    "name": "ipython",
    "version": 3
   },
   "file_extension": ".py",
   "mimetype": "text/x-python",
   "name": "python",
   "nbconvert_exporter": "python",
   "pygments_lexer": "ipython3",
   "version": "3.7.16"
  }
 },
 "nbformat": 4,
 "nbformat_minor": 5
}
